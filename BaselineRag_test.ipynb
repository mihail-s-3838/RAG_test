{
 "cells": [
  {
   "cell_type": "markdown",
   "metadata": {},
   "source": [
    "# Baseline RAG テスト"
   ]
  },
  {
   "cell_type": "markdown",
   "metadata": {},
   "source": [
    "こちらを参考にBaseline RAGを構築TEST：\n",
    "\n",
    "https://note.com/noa813/n/n6065209e7bf0"
   ]
  },
  {
   "cell_type": "markdown",
   "metadata": {},
   "source": [
    "### ライブラリーのインストール\n",
    "!pip install langchain openai chromadb tiktoken"
   ]
  },
  {
   "cell_type": "markdown",
   "metadata": {},
   "source": [
    "### OpenAIのAPIキーを環境変数に格納"
   ]
  },
  {
   "cell_type": "code",
   "execution_count": 1,
   "metadata": {},
   "outputs": [],
   "source": [
    "import openai\n",
    "import os\n",
    "import getpass\n",
    "\n",
    "# !初回のみ! openaiのAPIキーを設定\n",
    "\n",
    "# OpenAI APIのアカウントを作成、\n",
    "# https://platform.openai.com/account/api-keys\n",
    "# からAPIキーを取得して環境変数に設定\n",
    "\n",
    "os.environ[\"OPENAI_API_KEY\"] = getpass.getpass(\"Enter your OPENAI_API_KEY: \")\n",
    "\n",
    "openai.api_key = os.getenv(\"OPENAI_API_KEY\")"
   ]
  },
  {
   "cell_type": "markdown",
   "metadata": {},
   "source": [
    "### LLMが参照するテキストを用意"
   ]
  },
  {
   "cell_type": "code",
   "execution_count": 2,
   "metadata": {},
   "outputs": [
    {
     "data": {
      "text/plain": [
       "'名前： 山田太郎\\n所属部門： 製造\\n所属部署： 生産統括\\n役職： 部長\\n経歴詳細：\\n本企業で20年以上にわたり製造ラインにおけるA工程の管理・改善に関わった経験を持つ。佐藤健太とは10年前にB工程ラインで共にライン管理に従事し、B工程に関する知識も豊富である。今まで関わったプロジェクトとしては以下がある：\\nA工程ランニングコスト削減プロジェクト\\nB工程製造設備オーバーホールプロジェクト\\n新卒人材採用活動\\n*****\\n名前： 佐藤健太\\n所属部門： 製造\\n所属部署： 生産統括\\n役職： 課長\\n経歴詳細：\\n入社15年目で、B工程の生産ライン管理を担当。山田太郎と協働し、B工程製造設備オーバーホールプロジェクトを成功に導いた。これまで関わったプロジェクトは以下の通り：\\nB工程製造設備オーバーホールプロジェクト\\nC工程生産性向上プロジェクト\\n安全管理体制強化プロジェクト\\n*****\\n名前： 鈴木花子\\n所属部門： 品質管理\\n所属部署： 品質保証\\n役職： マネージャー\\n経歴詳細：\\n品質管理のエキスパートとして10年以上の経験を持つ。田中一郎と共に品質管理システム改善プロジェクトをリードし、製品の品質向上に貢献。参加したプロジェクト：\\n品質管理システム改善プロジェクト\\n品質認証取得プロジェクト\\n環境負荷低減プロジェクト\\n*****\\n名前： 田中一郎\\n所属部門： 品質管理\\n所属部署： 品質保証\\n役職： スペシャリスト\\n経歴詳細：\\n品質保証のスペシャリストとして、鈴木花子と協力し品質管理システム改善プロジェクトを推進。以下のプロジェクトに関わった：\\n品質管理システム改善プロジェクト\\n業務プロセス改善プロジェクト\\n安全管理体制強化プロジェクト\\n*****\\n名前： 高橋直樹\\n所属部門： 製造\\n所属部署： 製造技術\\n役職： 技師\\n経歴詳細：\\n製造技術部門で新たな生産技術の導入に尽力。佐々木優と共に生産ライン自動化導入プロジェクトを成功させ、生産効率を大幅に向上させた。関与したプロジェクト：\\n生産ライン自動化導入プロジェクト\\nD工程作業手順書改訂プロジェクト\\n環境負荷低減プロジェクト\\n*****\\n名前： 佐々木優\\n所属部門： 製造\\n所属部署： 製造技術\\n役職： エンジニア\\n経歴詳細：\\n高橋直樹と共に生産ライン自動化導入プロジェクトに参加。ITシステム統合プロジェクトでも中心的な役割を果たした。関わったプロジェクト：\\n生産ライン自動化導入プロジェクト\\nITシステム統合プロジェクト\\nE工程レイアウト変更プロジェクト\\n*****\\n名前： 伊藤美咲\\n所属部門： 人事\\n所属部署： 人材開発\\n役職： 部長\\n経歴詳細：\\n新卒人材採用活動をリードし、優秀な人材の確保に貢献。山田太郎と協力して社員研修プログラム見直しプロジェクトを推進。参加したプロジェクト：\\n新卒人材採用活動\\n社員研修プログラム見直しプロジェクト\\nコスト削減アイデア募集活動\\n*****\\n名前： 渡辺健\\n所属部門： 購買\\n所属部署： 資材調達\\n役職： マネージャー\\n経歴詳細：\\nベンダー選定プロジェクトで中心的な役割を果たし、サプライチェーンの最適化に成功。加藤美穂と共に在庫管理効率化プロジェクトを推進。関わったプロジェクト：\\nベンダー選定プロジェクト\\nサプライチェーン最適化プロジェクト\\n在庫管理効率化プロジェクト\\n*****\\n名前： 加藤美穂\\n所属部門： 購買\\n所属部署： 資材調達\\n役職： スペシャリスト\\n経歴詳細：\\n渡辺健と共に在庫管理効率化プロジェクトに従事。ITシステム統合プロジェクトでも重要な役割を担った。参加したプロジェクト：\\n在庫管理効率化プロジェクト\\nITシステム統合プロジェクト\\nサプライチェーン最適化プロジェクト\\n*****\\n名前： 小林誠\\n所属部門： マーケティング\\n所属部署： 市場開発\\n役職： マネージャー\\n経歴詳細：\\n海外市場進出計画を主導し、新規取引先開拓活動で成果を上げた。鈴木花子とマーケティング戦略策定プロジェクトを推進。関わったプロジェクト：\\n海外市場進出計画\\n新規取引先開拓活動\\nマーケティング戦略策定プロジェクト\\n*****\\n名前： 中村愛\\n所属部門： 研究開発\\n所属部署： 製品開発\\n役職： リードエンジニア\\n経歴詳細：\\n新製品開発プロジェクトをリードし、高橋直樹と協力して生産ラインへの導入を支援。参加したプロジェクト：\\n新製品開発プロジェクト\\n生産ライン自動化導入プロジェクト\\n環境負荷低減プロジェクト\\n*****\\n名前： 木村拓也\\n所属部門： 製造\\n所属部署： 生産管理\\n役職： 課長\\n経歴詳細：\\n生産計画の立案と在庫管理を担当。渡辺健と在庫管理効率化プロジェクトで協力。関わったプロジェクト：\\n在庫管理効率化プロジェクト\\n業務プロセス改善プロジェクト\\nコスト削減アイデア募集活動\\n*****\\n名前： 松本優子\\n所属部門： 財務\\n所属部署： 経理\\n役職： マネージャー\\n経歴詳細：\\nコスト管理と財務分析を担当。伊藤美咲と新卒人材採用活動で予算管理を行う。関わったプロジェクト：\\nコスト削減アイデア募集活動\\n新卒人材採用活動\\n業務プロセス改善プロジェクト\\n*****\\n名前： 山口翔太\\n所属部門： 製造\\n所属部署： 生産技術\\n役職： エンジニア\\n経歴詳細：\\nE工程レイアウト変更プロジェクトで技術的サポートを提供。佐々木優とITシステム統合プロジェクトでも協力。参加したプロジェクト：\\nE工程レイアウト変更プロジェクト\\nITシステム統合プロジェクト\\n環境負荷低減プロジェクト\\n*****\\n名前： 斎藤美和\\n所属部門： 人事\\n所属部署： 労務管理\\n役職： スペシャリスト\\n経歴詳細：\\n社員研修プログラム見直しプロジェクトで伊藤美咲をサポート。山田太郎とも新卒人材採用活動で協力。関わったプロジェクト：\\n社員研修プログラム見直しプロジェクト\\n新卒人材採用活動\\n安全管理体制強化プロジェクト\\n*****\\n名前： 福田健司\\n所属部門： 品質管理\\n所属部署： 品質検査\\n役職： マネージャー\\n経歴詳細：\\n品質検査プロセスの最適化に従事。田中一郎と品質認証取得プロジェクトで協力。参加したプロジェクト：\\n品質認証取得プロジェクト\\n業務プロセス改善プロジェクト\\n環境負荷低減プロジェクト\\n*****\\n名前： 岡田舞\\n所属部門： 購買\\n所属部署： 資材管理\\n役職： スペシャリスト\\n経歴詳細：\\nサプライチェーン最適化プロジェクトで加藤美穂と協力。ベンダー選定プロジェクトにも参加。関わったプロジェクト：\\nサプライチェーン最適化プロジェクト\\nベンダー選定プロジェクト\\n在庫管理効率化プロジェクト\\n*****\\n名前： 長谷川亮\\n所属部門： 研究開発\\n所属部署： 技術開発\\n役職： エンジニア\\n経歴詳細：\\n新製品開発プロジェクトで中村愛をサポート。高橋直樹と共に生産ライン自動化導入プロジェクトにも参加。関わったプロジェクト：\\n新製品開発プロジェクト\\n生産ライン自動化導入プロジェクト\\n環境負荷低減プロジェクト\\n*****\\n名前： 近藤真由\\n所属部門： マーケティング\\n所属部署： プロモーション\\n役職： スペシャリスト\\n経歴詳細：\\n小林誠と共にマーケティング戦略策定プロジェクトに参加。海外市場進出計画でも重要な役割を果たす。参加したプロジェクト：\\nマーケティング戦略策定プロジェクト\\n海外市場進出計画\\n新規取引先開拓活動\\n*****\\n名前： 石田光\\n所属部門： IT\\n所属部署： システム開発\\n役職： マネージャー\\n経歴詳細：\\nITシステム統合プロジェクトをリード。佐々木優と共に生産ライン自動化導入プロジェクトにも技術的支援を提供。関わったプロジェクト：\\nITシステム統合プロジェクト\\n生産ライン自動化導入プロジェクト\\n業務プロセス改善プロジェクト\\n*****\\n名前： 宮本和也\\n所属部門： 製造\\n所属部署： 生産統括\\n役職： 課長\\n経歴詳細：\\nA工程の生産ライン管理を担当。山田太郎とA工程ランニングコスト削減プロジェクトで協力。参加したプロジェクト：\\nA工程ランニングコスト削減プロジェクト\\nコスト削減アイデア募集活動\\n安全管理体制強化プロジェクト\\n*****\\n名前： 青木理恵\\n所属部門： 財務\\n所属部署： 予算管理\\n役職： スペシャリスト\\n経歴詳細：\\n松本優子と共にコスト削減アイデア募集活動を推進。業務プロセス改善プロジェクトにも参加。関わったプロジェクト：\\nコスト削減アイデア募集活動\\n業務プロセス改善プロジェクト\\n環境負荷低減プロジェクト\\n*****\\n名前： 山本大輔\\n所属部門： 製造\\n所属部署： 生産技術\\n役職： エンジニア\\n経歴詳細：\\nD工程作業手順書改訂プロジェクトで高橋直樹をサポート。環境負荷低減プロジェクトにも積極的に参加。関わったプロジェクト：\\nD工程作業手順書改訂プロジェクト\\n環境負荷低減プロジェクト\\n安全管理体制強化プロジェクト\\n*****\\n名前： 三浦香織\\n所属部門： 人事\\n所属部署： 人材育成\\n役職： マネージャー\\n経歴詳細：\\n社員研修プログラム見直しプロジェクトで伊藤美咲と協力。新卒人材採用活動にも参加。関わったプロジェクト：\\n社員研修プログラム見直しプロジェクト\\n新卒人材採用活動\\nコスト削減アイデア募集活動\\n*****\\n名前： 井上徹\\n所属部門： 購買\\n所属部署： ベンダー管理\\n役職： スペシャリスト\\n経歴詳細：\\nベンダー選定プロジェクトで渡辺健と協力。サプライチェーン最適化プロジェクトにも関与。参加したプロジェクト：\\nベンダー選定プロジェクト\\nサプライチェーン最適化プロジェクト\\n在庫管理効率化プロジェクト\\n*****\\n名前： 森田葵\\n所属部門： マーケティング\\n所属部署： デジタルマーケティング\\n役職： スペシャリスト\\n経歴詳細：\\n小林誠とマーケティング戦略策定プロジェクトに参加。新規取引先開拓活動でも成果を上げる。関わったプロジェクト：\\nマーケティング戦略策定プロジェクト\\n新規取引先開拓活動\\n海外市場進出計画\\n*****\\n名前： 橋本健太郎\\n所属部門： 製造\\n所属部署： 生産管理\\n役職： 課長\\n経歴詳細：\\n生産ラインの効率化に注力。木村拓也と在庫管理効率化プロジェクトで協力。参加したプロジェクト：\\n在庫管理効率化プロジェクト\\nコスト削減アイデア募集活動\\n業務プロセス改善プロジェクト\\n*****\\n名前： 杉本美里\\n所属部門： 品質管理\\n所属部署： 品質保証\\n役職： スペシャリスト\\n経歴詳細：\\n品質認証取得プロジェクトで鈴木花子と協力。環境負荷低減プロジェクトにも積極的に参加。関わったプロジェクト：\\n品質認証取得プロジェクト\\n環境負荷低減プロジェクト\\n品質管理システム改善プロジェクト\\n*****\\n名前： 大野翔\\n所属部門： IT\\n所属部署： インフラ管理\\n役職： エンジニア\\n経歴詳細：\\nITシステム統合プロジェクトで石田光をサポート。業務プロセス改善プロジェクトにも参加。参加したプロジェクト：\\nITシステム統合プロジェクト\\n業務プロセス改善プロジェクト\\n生産ライン自動化導入プロジェクト\\n*****\\n名前： 菊地彩\\n所属部門： 研究開発\\n所属部署： 製品設計\\n役職： エンジニア\\n経歴詳細：\\n新製品開発プロジェクトで中村愛をサポート。環境負荷低減プロジェクトにも関与。関わったプロジェクト：\\n新製品開発プロジェクト\\n環境負荷低減プロジェクト\\nE工程レイアウト変更プロジェクト\\n*****\\n名前： 松田健\\n所属部門： 財務\\n所属部署： 経理\\n役職： スペシャリスト\\n経歴詳細：\\n松本優子とコスト削減アイデア募集活動を推進。ITシステム統合プロジェクトでも財務面からサポート。参加したプロジェクト：\\nコスト削減アイデア募集活動\\nITシステム統合プロジェクト\\n業務プロセス改善プロジェクト\\n*****\\n名前： 中島舞\\n所属部門： 人事\\n所属部署： 労務管理\\n役職： スペシャリスト\\n経歴詳細：\\n斎藤美和と社員研修プログラム見直しプロジェクトを推進。安全管理体制強化プロジェクトにも参加。関わったプロジェクト：\\n社員研修プログラム見直しプロジェクト\\n安全管理体制強化プロジェクト\\n新卒人材採用活動\\n*****\\n名前： 野村亮太\\n所属部門： 製造\\n所属部署： 生産統括\\n役職： 課長\\n経歴詳細：\\nC工程生産性向上プロジェクトでリーダーシップを発揮。佐藤健太と協力して生産効率を向上。参加したプロジェクト：\\nC工程生産性向上プロジェクト\\n安全管理体制強化プロジェクト\\nコスト削減アイデア募集活動\\n*****\\n名前： 平田明\\n所属部門： 品質管理\\n所属部署： 品質検査\\n役職： エンジニア\\n経歴詳細：\\n福田健司と品質認証取得プロジェクトに参加。業務プロセス改善プロジェクトでも貢献。関わったプロジェクト：\\n品質認証取得プロジェクト\\n業務プロセス改善プロジェクト\\n品質管理システム改善プロジェクト\\n*****\\n名前： 石井美穂\\n所属部門： マーケティング\\n所属部署： プロモーション\\n役職： スペシャリスト\\n経歴詳細：\\n近藤真由とマーケティング戦略策定プロジェクトに参加。新規取引先開拓活動でも成果を上げる。参加したプロジェクト：\\nマーケティング戦略策定プロジェクト\\n新規取引先開拓活動\\n海外市場進出計画\\n*****\\n名前： 池田隆\\n所属部門： 購買\\n所属部署： 資材調達\\n役職： エンジニア\\n経歴詳細：\\n岡田舞とサプライチェーン最適化プロジェクトを推進。ベンダー選定プロジェクトにも参加。関わったプロジェクト：\\nサプライチェーン最適化プロジェクト\\nベンダー選定プロジェクト\\n在庫管理効率化プロジェクト\\n*****\\n名前： 原田涼\\n所属部門： 研究開発\\n所属部署： 技術開発\\n役職： エンジニア\\n経歴詳細：\\n長谷川亮と共に新製品開発プロジェクトに参加。環境負荷低減プロジェクトでも技術的貢献。関わったプロジェクト：\\n新製品開発プロジェクト\\n環境負荷低減プロジェクト\\n生産ライン自動化導入プロジェクト\\n*****\\n名前： 増田葵\\n所属部門： 人事\\n所属部署： 人材開発\\n役職： スペシャリスト\\n経歴詳細：\\n三浦香織と社員研修プログラム見直しプロジェクトを推進。新卒人材採用活動にも参加。関わったプロジェクト：\\n社員研修プログラム見直しプロジェクト\\n新卒人材採用活動\\n安全管理体制強化プロジェクト\\n*****\\n名前： 藤田翔太\\n所属部門： 製造\\n所属部署： 生産管理\\n役職： エンジニア\\n経歴詳細：\\n橋本健太郎と在庫管理効率化プロジェクトに参加。C工程生産性向上プロジェクトでも貢献。参加したプロジェクト：\\n在庫管理効率化プロジェクト\\nC工程生産性向上プロジェクト\\n業務プロセス改善プロジェクト\\n*****\\n名前： 小川真由美\\n所属部門： 品質管理\\n所属部署： 品質保証\\n役職： スペシャリスト\\n経歴詳細：\\n杉本美里と品質認証取得プロジェクトに参加。環境負荷低減プロジェクトにも積極的に参加。関わったプロジェクト：\\n品質認証取得プロジェクト\\n環境負荷低減プロジェクト\\n品質管理システム改善プロジェクト\\n*****\\n名前： 吉田健\\n所属部門： IT\\n所属部署： システム開発\\n役職： エンジニア\\n経歴詳細：\\n石田光とITシステム統合プロジェクトに参加。業務プロセス改善プロジェクトでも技術的支援を提供。参加したプロジェクト：\\nITシステム統合プロジェクト\\n業務プロセス改善プロジェクト\\n生産ライン自動化導入プロジェクト\\n*****\\n名前： 林美咲\\n所属部門： マーケティング\\n所属部署： デジタルマーケティング\\n役職： スペシャリスト\\n経歴詳細：\\n森田葵とマーケティング戦略策定プロジェクトに参加。海外市場進出計画でも成果を上げる。関わったプロジェクト：\\nマーケティング戦略策定プロジェクト\\n海外市場進出計画\\n新規取引先開拓活動\\n*****\\n名前： 高田亮\\n所属部門： 購買\\n所属部署： ベンダー管理\\n役職： スペシャリスト\\n経歴詳細：\\n井上徹とベンダー選定プロジェクトに参加。サプライチェーン最適化プロジェクトでも貢献。参加したプロジェクト：\\nベンダー選定プロジェクト\\nサプライチェーン最適化プロジェクト\\n在庫管理効率化プロジェクト\\n*****\\n名前： 宮崎真由\\n所属部門： 財務\\n所属部署： 予算管理\\n役職： スペシャリスト\\n経歴詳細：\\n青木理恵とコスト削減アイデア募集活動を推進。業務プロセス改善プロジェクトにも参加。関わったプロジェクト：\\nコスト削減アイデア募集活動\\n業務プロセス改善プロジェクト\\n環境負荷低減プロジェクト\\n*****\\n名前： 大谷翔平\\n所属部門： 製造\\n所属部署： 生産技術\\n役職： エンジニア\\n経歴詳細：\\n山口翔太とE工程レイアウト変更プロジェクトに参加。環境負荷低減プロジェクトでも貢献。参加したプロジェクト：\\nE工程レイアウト変更プロジェクト\\n環境負荷低減プロジェクト\\n生産ライン自動化導入プロジェクト\\n*****\\n名前： 中田美穂\\n所属部門： 人事\\n所属部署： 労務管理\\n役職： スペシャリスト\\n経歴詳細：\\n中島舞と社員研修プログラム見直しプロジェクトに参加。安全管理体制強化プロジェクトでも貢献。関わったプロジェクト：\\n社員研修プログラム見直しプロジェクト\\n安全管理体制強化プロジェクト\\n新卒人材採用活動\\n*****\\n名前： 上田健太\\n所属部門： 研究開発\\n所属部署： 技術開発\\n役職： エンジニア\\n経歴詳細：\\n原田涼と新製品開発プロジェクトに参加。環境負荷低減プロジェクトでも技術的貢献。関わったプロジェクト：\\n新製品開発プロジェクト\\n環境負荷低減プロジェクト\\n生産ライン自動化導入プロジェクト\\n*****\\n名前： 矢野翔太\\n所属部門： 製造\\n所属部署： 生産管理\\n役職： エンジニア\\n経歴詳細：\\n藤田翔太と在庫管理効率化プロジェクトに参加。C工程生産性向上プロジェクトでも貢献。参加したプロジェクト：\\n在庫管理効率化プロジェクト\\nC工程生産性向上プロジェクト\\n業務プロセス改善プロジェクト\\n*****\\n名前： 永井美咲\\n所属部門： 品質管理\\n所属部署： 品質保証\\n役職： スペシャリスト\\n経歴詳細：\\n小川真由美と品質認証取得プロジェクトに参加。環境負荷低減プロジェクトにも積極的に参加。関わったプロジェクト：\\n品質認証取得プロジェクト\\n環境負荷低減プロジェクト\\n品質管理システム改善プロジェクト\\n*****\\n名前： 田村亮太\\n所属部門： IT\\n所属部署： システム開発\\n役職： エンジニア\\n経歴詳細：\\n吉田健とITシステム統合プロジェクトに参加。業務プロセス改善プロジェクトでも技術的支援を提供。参加したプロジェクト：\\nITシステム統合プロジェクト\\n業務プロセス改善プロジェクト\\n生産ライン自動化導入プロジェクト\\n*****\\n名前： 佐野美穂\\n所属部門： マーケティング\\n所属部署： デジタルマーケティング\\n役職： スペシャリスト\\n経歴詳細：\\n林美咲とマーケティング戦略策定プロジェクトに参加。海外市場進出計画でも成果を上げる。関わったプロジェクト：\\nマーケティング戦略策定プロジェクト\\n海外市場進出計画\\n新規取引先開拓活動\\n*****\\n名前： 大西健\\n所属部門： 購買\\n所属部署： ベンダー管理\\n役職： スペシャリスト\\n経歴詳細：\\n高田亮とベンダー選定プロジェクトに参加。サプライチェーン最適化プロジェクトでも貢献。参加したプロジェクト：\\nベンダー選定プロジェクト\\nサプライチェーン最適化プロジェクト\\n在庫管理効率化プロジェクト\\n*****\\n名前： 川口美咲\\n所属部門： 財務\\n所属部署： 予算管理\\n役職： スペシャリスト\\n経歴詳細：\\n宮崎真由とコスト削減アイデア募集活動を推進。業務プロセス改善プロジェクトにも参加。関わったプロジェクト：\\nコスト削減アイデア募集活動\\n業務プロセス改善プロジェクト\\n環境負荷低減プロジェクト\\n*****\\n名前： 田辺翔太\\n所属部門： 製造\\n所属部署： 生産技術\\n役職： エンジニア\\n経歴詳細：\\n大谷翔平とE工程レイアウト変更プロジェクトに参加。環境負荷低減プロジェクトでも貢献。参加したプロジェクト：\\nE工程レイアウト変更プロジェクト\\n環境負荷低減プロジェクト\\n生産ライン自動化導入プロジェクト\\n*****\\n名前： 福島美穂\\n所属部門： 人事\\n所属部署： 労務管理\\n役職： スペシャリスト\\n経歴詳細：\\n中田美穂と社員研修プログラム見直しプロジェクトに参加。安全管理体制強化プロジェクトでも貢献。関わったプロジェクト：\\n社員研修プログラム見直しプロジェクト\\n安全管理体制強化プロジェクト\\n新卒人材採用活動\\n*****\\n名前： 谷口健太\\n所属部門： 研究開発\\n所属部署： 技術開発\\n役職： エンジニア\\n経歴詳細：\\n上田健太と新製品開発プロジェクトに参加。環境負荷低減プロジェクトでも技術的貢献。関わったプロジェクト：\\n新製品開発プロジェクト\\n環境負荷低減プロジェクト\\n生産ライン自動化導入プロジェクト\\n*****\\n名前： 村上翔太\\n所属部門： 製造\\n所属部署： 生産管理\\n役職： エンジニア\\n経歴詳細：\\n矢野翔太と在庫管理効率化プロジェクトに参加。C工程生産性向上プロジェクトでも貢献。参加したプロジェクト：\\n在庫管理効率化プロジェクト\\nC工程生産性向上プロジェクト\\n業務プロセス改善プロジェクト\\n*****\\n名前： 本田美咲\\n所属部門： 品質管理\\n所属部署： 品質保証\\n役職： スペシャリスト\\n経歴詳細：\\n永井美咲と品質認証取得プロジェクトに参加。環境負荷低減プロジェクトにも積極的に参加。関わったプロジェクト：\\n品質認証取得プロジェクト\\n環境負荷低減プロジェクト\\n品質管理システム改善プロジェクト\\n*****\\n名前： 加藤亮太\\n所属部門： IT\\n所属部署： システム開発\\n役職： エンジニア\\n経歴詳細：\\n田村亮太とITシステム統合プロジェクトに参加。業務プロセス改善プロジェクトでも技術的支援を提供。参加したプロジェクト：\\nITシステム統合プロジェクト\\n業務プロセス改善プロジェクト\\n生産ライン自動化導入プロジェクト\\n*****\\n名前： 平野美穂\\n所属部門： マーケティング\\n所属部署： デジタルマーケティング\\n役職： スペシャリスト\\n経歴詳細：\\n佐野美穂とマーケティング戦略策定プロジェクトに参加。海外市場進出計画でも成果を上げる。関わったプロジェクト：\\nマーケティング戦略策定プロジェクト\\n海外市場進出計画\\n新規取引先開拓活動\\n'"
      ]
     },
     "execution_count": 2,
     "metadata": {},
     "output_type": "execute_result"
    }
   ],
   "source": [
    "file_path = './data/manufacturing_company_dummy.txt'\n",
    "\n",
    "with open(file_path, 'r', encoding='utf-8') as file:\n",
    "    text = file.read()\n",
    "\n",
    "text\n"
   ]
  },
  {
   "cell_type": "markdown",
   "metadata": {},
   "source": [
    "### テキストを分割"
   ]
  },
  {
   "cell_type": "code",
   "execution_count": 3,
   "metadata": {},
   "outputs": [
    {
     "name": "stderr",
     "output_type": "stream",
     "text": [
      "Created a chunk of size 204, which is longer than the specified 100\n",
      "Created a chunk of size 176, which is longer than the specified 100\n",
      "Created a chunk of size 170, which is longer than the specified 100\n",
      "Created a chunk of size 157, which is longer than the specified 100\n",
      "Created a chunk of size 166, which is longer than the specified 100\n",
      "Created a chunk of size 162, which is longer than the specified 100\n",
      "Created a chunk of size 154, which is longer than the specified 100\n",
      "Created a chunk of size 167, which is longer than the specified 100\n",
      "Created a chunk of size 156, which is longer than the specified 100\n",
      "Created a chunk of size 156, which is longer than the specified 100\n",
      "Created a chunk of size 143, which is longer than the specified 100\n",
      "Created a chunk of size 135, which is longer than the specified 100\n",
      "Created a chunk of size 131, which is longer than the specified 100\n",
      "Created a chunk of size 155, which is longer than the specified 100\n",
      "Created a chunk of size 150, which is longer than the specified 100\n",
      "Created a chunk of size 139, which is longer than the specified 100\n",
      "Created a chunk of size 147, which is longer than the specified 100\n",
      "Created a chunk of size 151, which is longer than the specified 100\n",
      "Created a chunk of size 152, which is longer than the specified 100\n",
      "Created a chunk of size 160, which is longer than the specified 100\n",
      "Created a chunk of size 147, which is longer than the specified 100\n",
      "Created a chunk of size 145, which is longer than the specified 100\n",
      "Created a chunk of size 151, which is longer than the specified 100\n",
      "Created a chunk of size 141, which is longer than the specified 100\n",
      "Created a chunk of size 148, which is longer than the specified 100\n",
      "Created a chunk of size 151, which is longer than the specified 100\n",
      "Created a chunk of size 134, which is longer than the specified 100\n",
      "Created a chunk of size 147, which is longer than the specified 100\n",
      "Created a chunk of size 149, which is longer than the specified 100\n",
      "Created a chunk of size 139, which is longer than the specified 100\n",
      "Created a chunk of size 149, which is longer than the specified 100\n",
      "Created a chunk of size 148, which is longer than the specified 100\n",
      "Created a chunk of size 142, which is longer than the specified 100\n",
      "Created a chunk of size 144, which is longer than the specified 100\n",
      "Created a chunk of size 149, which is longer than the specified 100\n",
      "Created a chunk of size 144, which is longer than the specified 100\n",
      "Created a chunk of size 143, which is longer than the specified 100\n",
      "Created a chunk of size 142, which is longer than the specified 100\n",
      "Created a chunk of size 144, which is longer than the specified 100\n",
      "Created a chunk of size 148, which is longer than the specified 100\n",
      "Created a chunk of size 153, which is longer than the specified 100\n",
      "Created a chunk of size 150, which is longer than the specified 100\n",
      "Created a chunk of size 148, which is longer than the specified 100\n",
      "Created a chunk of size 143, which is longer than the specified 100\n",
      "Created a chunk of size 147, which is longer than the specified 100\n",
      "Created a chunk of size 148, which is longer than the specified 100\n",
      "Created a chunk of size 141, which is longer than the specified 100\n",
      "Created a chunk of size 143, which is longer than the specified 100\n",
      "Created a chunk of size 148, which is longer than the specified 100\n",
      "Created a chunk of size 154, which is longer than the specified 100\n",
      "Created a chunk of size 151, which is longer than the specified 100\n",
      "Created a chunk of size 148, which is longer than the specified 100\n",
      "Created a chunk of size 143, which is longer than the specified 100\n",
      "Created a chunk of size 147, which is longer than the specified 100\n",
      "Created a chunk of size 149, which is longer than the specified 100\n",
      "Created a chunk of size 142, which is longer than the specified 100\n",
      "Created a chunk of size 143, which is longer than the specified 100\n",
      "Created a chunk of size 147, which is longer than the specified 100\n",
      "Created a chunk of size 155, which is longer than the specified 100\n"
     ]
    },
    {
     "data": {
      "text/plain": [
       "60"
      ]
     },
     "execution_count": 3,
     "metadata": {},
     "output_type": "execute_result"
    }
   ],
   "source": [
    "from langchain.text_splitter import CharacterTextSplitter\n",
    "\n",
    "text_splitter = CharacterTextSplitter(\n",
    "    separator=\"*****\",\n",
    "    chunk_size=100, \n",
    "    chunk_overlap=0\n",
    "    )\n",
    "\n",
    "docs = text_splitter.split_text(text)\n",
    "\n",
    "len(docs)"
   ]
  },
  {
   "cell_type": "markdown",
   "metadata": {},
   "source": [
    "### OpenAIのEmbeddingのインスタンス化\n",
    "\n",
    "* チャンクのベクトル化を行っている\n",
    "* 追加インストールが必要：pip install -U langchain-community\n",
    "* !Warning有り! \n",
    "\n",
    "LangChainDeprecationWarning: The class `OpenAIEmbeddings` was deprecated in LangChain 0.0.9 and will be removed in 1.0. An updated version of the class exists in the :class:`~langchain-openai package and should be used instead. To use it run `pip install -U :class:`~langchain-openai` and import as `from :class:`~langchain_openai import OpenAIEmbeddings``.\n",
    "  embeddings = OpenAIEmbeddings()"
   ]
  },
  {
   "cell_type": "code",
   "execution_count": 4,
   "metadata": {},
   "outputs": [
    {
     "name": "stderr",
     "output_type": "stream",
     "text": [
      "C:\\Users\\user\\AppData\\Local\\Temp\\ipykernel_18660\\3921495447.py:3: LangChainDeprecationWarning: The class `OpenAIEmbeddings` was deprecated in LangChain 0.0.9 and will be removed in 1.0. An updated version of the class exists in the :class:`~langchain-openai package and should be used instead. To use it run `pip install -U :class:`~langchain-openai` and import as `from :class:`~langchain_openai import OpenAIEmbeddings``.\n",
      "  embeddings = OpenAIEmbeddings()\n"
     ]
    }
   ],
   "source": [
    "from langchain.embeddings.openai import OpenAIEmbeddings\n",
    "\n",
    "embeddings = OpenAIEmbeddings()\n",
    "\n"
   ]
  },
  {
   "cell_type": "markdown",
   "metadata": {},
   "source": [
    "### VectorStore作成"
   ]
  },
  {
   "cell_type": "code",
   "execution_count": 5,
   "metadata": {},
   "outputs": [],
   "source": [
    "from langchain.vectorstores import Chroma\n",
    "db = Chroma.from_texts(docs, embeddings)\n",
    "retriever = db.as_retriever()"
   ]
  },
  {
   "cell_type": "markdown",
   "metadata": {},
   "source": [
    "### 質問（Query）を用意\n",
    "\n",
    "質問（query）がベクトル化され、\n",
    "queryと類似度が近いベクトルを持つ\n",
    "テキストをVectorStoreから検索します。\n",
    "そして、\n",
    "queryに関連する文書が\n",
    "context_docsへ格納されます"
   ]
  },
  {
   "cell_type": "code",
   "execution_count": 9,
   "metadata": {},
   "outputs": [
    {
     "data": {
      "text/plain": [
       "[Document(metadata={}, page_content='名前： 上田健太\\n所属部門： 研究開発\\n所属部署： 技術開発\\n役職： エンジニア\\n経歴詳細：\\n原田涼と新製品開発プロジェクトに参加。環境負荷低減プロジェクトでも技術的貢献。関わったプロジェクト：\\n新製品開発プロジェクト\\n環境負荷低減プロジェクト\\n生産ライン自動化導入プロジェクト'),\n",
       " Document(metadata={}, page_content='名前： 田村亮太\\n所属部門： IT\\n所属部署： システム開発\\n役職： エンジニア\\n経歴詳細：\\n吉田健とITシステム統合プロジェクトに参加。業務プロセス改善プロジェクトでも技術的支援を提供。参加したプロジェクト：\\nITシステム統合プロジェクト\\n業務プロセス改善プロジェクト\\n生産ライン自動化導入プロジェクト'),\n",
       " Document(metadata={}, page_content='名前： 吉田健\\n所属部門： IT\\n所属部署： システム開発\\n役職： エンジニア\\n経歴詳細：\\n石田光とITシステム統合プロジェクトに参加。業務プロセス改善プロジェクトでも技術的支援を提供。参加したプロジェクト：\\nITシステム統合プロジェクト\\n業務プロセス改善プロジェクト\\n生産ライン自動化導入プロジェクト'),\n",
       " Document(metadata={}, page_content='名前： 藤田翔太\\n所属部門： 製造\\n所属部署： 生産管理\\n役職： エンジニア\\n経歴詳細：\\n橋本健太郎と在庫管理効率化プロジェクトに参加。C工程生産性向上プロジェクトでも貢献。参加したプロジェクト：\\n在庫管理効率化プロジェクト\\nC工程生産性向上プロジェクト\\n業務プロセス改善プロジェクト')]"
      ]
     },
     "execution_count": 9,
     "metadata": {},
     "output_type": "execute_result"
    }
   ],
   "source": [
    "# query = \"人的資本の強化のために取り組んでいることは何でしょうか？\"\n",
    "query = \"山田太郎と一緒にプロジェクトに従事したことがある社員を全員挙げてください\"\n",
    "\n",
    "context_docs = retriever.get_relevant_documents(query)\n",
    "context_docs"
   ]
  },
  {
   "cell_type": "markdown",
   "metadata": {},
   "source": [
    "### *** LLMに質問を投げ、RAGを使って回答"
   ]
  },
  {
   "cell_type": "code",
   "execution_count": 11,
   "metadata": {},
   "outputs": [
    {
     "name": "stdout",
     "output_type": "stream",
     "text": [
      "田村亮太、吉田健、藤田翔太\n"
     ]
    }
   ],
   "source": [
    "from langchain.chains import RetrievalQA\n",
    "from langchain.chat_models import ChatOpenAI\n",
    "\n",
    "chat = ChatOpenAI(\n",
    "    model_name=\"gpt-3.5-turbo\",\n",
    "    temperature=0\n",
    ")\n",
    "\n",
    "qa_chain = RetrievalQA.from_chain_type(\n",
    "    llm=chat,\n",
    "    chain_type=\"stuff\",\n",
    "    retriever=retriever\n",
    ")\n",
    "\n",
    "result = qa_chain.run(query)\n",
    "print(result)"
   ]
  },
  {
   "cell_type": "markdown",
   "metadata": {},
   "source": [
    "### ChatGPT　モデル間の回答比較\n",
    "\n",
    "##### ダミーデータ(製造業企業の社員情報) で検証\n",
    "**Query #1:「山田太郎はどのような人物ですか？」**\n",
    "\n",
    "*retriever結果(どのチャンクが回答根拠として選ばれたか？)\n",
    "\n",
    "\n",
    "[Document(metadata={}, page_content='名前： 山田太郎\\n所属部門： 製造\\n所属部署： 生産統括\\n役職： 部長\\n経歴詳細：\\n本企業で20年以上にわたり製造ラインにおけるA工程の管理・改善に関わった経験を持つ。佐藤健太とは10年前にB工程ラインで共にライン管理に従事し、B工程に関する知識も豊富である。今まで関わったプロジェクトとしては以下がある：\\nA工程ランニングコスト削減プロジェクト\\nB工程製造設備オーバーホールプロジェクト\\n新卒人材採用活動'),\n",
    " \n",
    " \n",
    " Document(metadata={}, page_content='名前： 上田健太\\n所属部門： 研究開発\\n所属部署： 技術開発\\n役職： エンジニア\\n経歴詳細：\\n原田涼と新製品開発プロジェクトに参加。環境負荷低減プロジェクトでも技術的貢献。関わったプロジェクト：\\n新製品開発プロジェクト\\n環境負荷低減プロジェクト\\n生産ライン自動化導入プロジェクト'),\n",
    " \n",
    " \n",
    " Document(metadata={}, page_content='名前： 谷口健太\\n所属部門： 研究開発\\n所属部署： 技術開発\\n役職： エンジニア\\n経歴詳細：\\n上田健太と新製品開発プロジェクトに参加。環境負荷低減プロジェクトでも技術的貢献。関わったプロジェクト：\\n新製品開発プロジェクト\\n環境負荷低減プロジェクト\\n生産ライン自動化導入プロジェクト'),\n",
    " \n",
    " \n",
    " Document(metadata={}, page_content='名前： 橋本健太郎\\n所属部門： 製造\\n所属部署： 生産管理\\n役職： 課長\\n経歴詳細：\\n生産ラインの効率化に注力。木村拓也と在庫管理効率化プロジェクトで協力。参加したプロジェクト：\\n在庫管理効率化プロジェクト\\nコスト削減アイデア募集活動\\n業務プロセス改善プロジェクト')]\n",
    "\n",
    "\n",
    "\n",
    "**LLMの回答**\n",
    "\n",
    "* turbo-3.5\n",
    "「山田太郎は製造部門に所属し、生産統括部署の部長です。20年以上の経験を持ち、A工程の管理・改善に関わってきました。10年前にはB工程ラインでライン管理に従事し、B工程にも豊富な知識を持っています。過去に関わったプロジェクトにはA工程ランニングコスト削減プロジェクト、B工程製造設備オーバーホールプロジェクト、新卒人材採用活動などがあります。」\n",
    "\n",
    "* 4o\n",
    "\n",
    "「山田太郎は、製造部門の生産統括部署に所属する部長です。本企業で20年以上にわたり製造ラインにおけるA工程の管理・改善に関わった経験を持ち、B工程に関する知識も豊富です。彼はA工程ランニングコスト削減プロジェクトやB工程製造設備オーバーホールプロジェクト、新卒人材採用活動などに関わってきました。また、佐藤健太とは10年前にB工程ラインで共にライン管理に従事した経験があります。」\n",
    "\n",
    "\n"
   ]
  },
  {
   "cell_type": "markdown",
   "metadata": {},
   "source": [
    "\n",
    "　\n",
    "　\n",
    "　\n",
    "　\n",
    "　\n",
    "\n",
    "\n",
    "\n",
    "**Query #2:「山田太郎と一緒にプロジェクトに従事したことがある社員を全員挙げてください」**\n",
    "\n",
    "*retriever結果(どのチャンクが回答根拠として選ばれたか？)\n",
    "\n",
    "\n",
    "\n",
    "**LLMの回答**\n",
    "\n",
    "* turbo-3.5\n",
    "「田村亮太、吉田健、藤田翔太」\n",
    "-> <font color=\"red\">不正解</font>\n",
    "\n",
    "* 4o\n",
    "「<font color=\"red\">申し訳ありませんが、提供された情報の中に山田太郎という名前の社員は含まれていません。そのため、山田太郎と一緒にプロジェクトに従事したことがある社員についてはわかりません。</font>\n",
    "」\n",
    "\n"
   ]
  }
 ],
 "metadata": {
  "kernelspec": {
   "display_name": "openai_01",
   "language": "python",
   "name": "python3"
  },
  "language_info": {
   "codemirror_mode": {
    "name": "ipython",
    "version": 3
   },
   "file_extension": ".py",
   "mimetype": "text/x-python",
   "name": "python",
   "nbconvert_exporter": "python",
   "pygments_lexer": "ipython3",
   "version": "3.12.4"
  }
 },
 "nbformat": 4,
 "nbformat_minor": 2
}
