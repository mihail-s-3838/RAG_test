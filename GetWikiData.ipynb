{
 "cells": [
  {
   "cell_type": "code",
   "execution_count": null,
   "metadata": {},
   "outputs": [
    {
     "name": "stdout",
     "output_type": "stream",
     "text": [
      "URL: https://ja.wikipedia.org/wiki/%E8%8B%B1%E9%9B%84%E4%BC%9D%E8%AA%AC_%E8%BB%8C%E8%B7%A1%E3%82%B7%E3%83%AA%E3%83%BC%E3%82%BA%E3%81%AE%E7%99%BB%E5%A0%B4%E4%BA%BA%E7%89%A9\n",
      "コンテンツがoutput_英雄伝説_軌跡シリーズの登場人物.txtに保存されました。\n"
     ]
    }
   ],
   "source": [
    "import requests\n",
    "from urllib.parse import unquote\n",
    "import re\n",
    "\n",
    "# wiki_link = 'https://ja.wikipedia.org/wiki/%E3%82%AF%E3%83%83%E3%83%91_(%E3%82%B2%E3%83%BC%E3%83%A0%E3%82%AD%E3%83%A3%E3%83%A9%E3%82%AF%E3%82%BF%E3%83%BC)'\n",
    "\n",
    "def remove_sections(text):\n",
    "    # 正規表現パターンを作成\n",
    "    pattern = r\"(==\\s*脚注\\s*==.*?)(?=^==|\\Z)|\" \\\n",
    "              r\"(===\\s*注釈\\s*===.*?)(?=^==|^===|\\Z)|\" \\\n",
    "              r\"(===\\s*出典\\s*===.*?)(?=^==|^===|\\Z)\"\n",
    "\n",
    "    # セクションを削除\n",
    "    cleaned_text = re.sub(pattern, '', text, flags=re.DOTALL | re.MULTILINE)\n",
    "\n",
    "    return cleaned_text\n",
    "\n",
    "def get_wikipedia_content(wiki_link):\n",
    "    title = wiki_link.split('/')[-1]  # URLの最後の部分をタイトルとして使用\n",
    "    title = unquote(title)  # URLエンコードをデコード\n",
    "\n",
    "    # MediaWiki APIのエンドポイント\n",
    "    api_url = 'https://ja.wikipedia.org/w/api.php'\n",
    "\n",
    "    # APIパラメータの設定\n",
    "    params = {\n",
    "        'action': 'query',\n",
    "        'prop': 'extracts',\n",
    "        'explaintext': True,   # プレーンテキストで取得\n",
    "        'format': 'json',\n",
    "        'titles': title\n",
    "    }\n",
    "\n",
    "    # リクエストを送信\n",
    "    response = requests.get(api_url, params=params)\n",
    "    if response.status_code != 200:\n",
    "        print(\"APIリクエストに失敗しました。\")\n",
    "        return\n",
    "\n",
    "    data = response.json()\n",
    "    pages = data['query']['pages']\n",
    "    page = next(iter(pages.values()))\n",
    "    if 'extract' in page:\n",
    "        content = page['extract']\n",
    "    else:\n",
    "        print(\"ページの内容を取得できませんでした。\")\n",
    "        return\n",
    "\n",
    "    # テキストをファイルに保存\n",
    "    #不要なセクションを削除\n",
    "    content = remove_sections(content)\n",
    "    with open('data/wikipage_' + title+'.txt', 'w', encoding='utf-8') as f:\n",
    "        f.write(content)\n",
    "\n",
    "    print(f\"コンテンツがwikipage_{title}.txtに保存されました。\")\n",
    "\n",
    "# 使用例\n",
    "# URLからタイトルを抽出\n",
    "\n",
    "if __name__ == '__main__':  \n",
    "    wiki_link = input(\"WikipediaのページのURLを入力してください：\")\n",
    "    print(f\"URL: {wiki_link}\")\n",
    "    get_wikipedia_content(wiki_link)\n"
   ]
  }
 ],
 "metadata": {
  "kernelspec": {
   "display_name": "openai_01",
   "language": "python",
   "name": "python3"
  },
  "language_info": {
   "codemirror_mode": {
    "name": "ipython",
    "version": 3
   },
   "file_extension": ".py",
   "mimetype": "text/x-python",
   "name": "python",
   "nbconvert_exporter": "python",
   "pygments_lexer": "ipython3",
   "version": "3.12.4"
  }
 },
 "nbformat": 4,
 "nbformat_minor": 2
}
